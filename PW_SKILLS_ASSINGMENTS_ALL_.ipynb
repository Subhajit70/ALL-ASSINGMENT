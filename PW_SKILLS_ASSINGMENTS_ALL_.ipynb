{
  "nbformat": 4,
  "nbformat_minor": 0,
  "metadata": {
    "colab": {
      "provenance": []
    },
    "kernelspec": {
      "name": "python3",
      "display_name": "Python 3"
    },
    "language_info": {
      "name": "python"
    }
  },
  "cells": [
    {
      "cell_type": "code",
      "execution_count": null,
      "metadata": {
        "colab": {
          "base_uri": "https://localhost:8080/"
        },
        "id": "P7iMqp5dw_u8",
        "outputId": "0f9ca633-c484-43e6-a41a-00b73bef8102"
      },
      "outputs": [
        {
          "output_type": "stream",
          "name": "stdout",
          "text": [
            "['freedom_fighter', 'Mohan', 'dash', 'karam', 'chandra', 'gandhi', 'Bapu']\n"
          ]
        }
      ],
      "source": [
        "#Question 1.3.name = [\"Mohan\", \"dash\", \"karam\", \"chandra\",\"gandhi\",\"Bapu\"]do the following operations in this list;\n",
        "\n",
        "#a) add an element \"freedom_fighter\" in this list at the 0th index.\n",
        "\n",
        "name = [\"Mohan\", \"dash\", \"karam\", \"chandra\", \"gandhi\", \"Bapu\"]\n",
        "name.insert(0, \"freedom_fighter\")\n",
        "print(name)\n"
      ]
    },
    {
      "cell_type": "code",
      "source": [
        "#"
      ],
      "metadata": {
        "id": "nYitEtpWxt2B"
      },
      "execution_count": null,
      "outputs": []
    },
    {
      "cell_type": "code",
      "source": [
        "#c) add two more elements in the name [\"NetaJi\",\"Bose\"] at the end of the list.\n",
        "\n",
        "name.extend([\"NetaJi\", \"Bose\"])\n",
        "# Alternatively:\n",
        "# name += [\"NetaJi\", \"Bose\"]\n",
        "print(name)\n"
      ],
      "metadata": {
        "colab": {
          "base_uri": "https://localhost:8080/"
        },
        "id": "8wm-YV8fyA_P",
        "outputId": "25bb61a1-32d1-431c-9fec-21db51267025"
      },
      "execution_count": null,
      "outputs": [
        {
          "output_type": "stream",
          "name": "stdout",
          "text": [
            "['freedom_fighter', 'Mohan', 'dash', 'karam', 'chandra', 'gandhi', 'Bapu', 'NetaJi', 'Bose']\n"
          ]
        }
      ]
    },
    {
      "cell_type": "code",
      "source": [
        "#dd) what will be the value of temp:\n",
        "#name = [\"Bapuji\", \"dash\", \"karam\", \"chandra\",\"gandi\",\"Mohan\"]\n",
        "#temp=name[-1]\n",
        "#name[-1]=name[0]\n",
        "#name[0]=temp\n",
        "#print(name)\n",
        "\n",
        "name = [\"Bapuji\", \"dash\", \"karam\", \"chandra\", \"gandi\", \"Mohan\"]\n",
        "temp = name[-1]\n",
        "name[-1] = name[0]\n",
        "name[0] = temp\n",
        "print(name)\n"
      ],
      "metadata": {
        "colab": {
          "base_uri": "https://localhost:8080/"
        },
        "id": "lzdU4RcsyI2A",
        "outputId": "cd26dac1-1026-4f8c-85ec-88830989803f"
      },
      "execution_count": null,
      "outputs": [
        {
          "output_type": "stream",
          "name": "stdout",
          "text": [
            "['Mohan', 'dash', 'karam', 'chandra', 'gandi', 'Bapuji']\n"
          ]
        }
      ]
    },
    {
      "cell_type": "code",
      "source": [
        "#Question 1.4.Find the output of the following.\n",
        "#animal = ['Human','cat','mat','cat','rat','Human', 'Lion']\n",
        "#print(animal.count('Human'))\n",
        "#print(animal.index('rat'))\n",
        "#print(len(animal))\n",
        "\n",
        "animal = ['Human', 'cat', 'mat', 'cat', 'rat', 'Human', 'Lion']\n",
        "print(animal.count('Human'))\n",
        "print(animal.index('rat'))\n",
        "print(len(animal))\n",
        "\n",
        "\n"
      ],
      "metadata": {
        "colab": {
          "base_uri": "https://localhost:8080/"
        },
        "id": "zx1_kLj-yYGt",
        "outputId": "fc12ccd1-cf2c-4b48-9fe8-86ec1177d266"
      },
      "execution_count": null,
      "outputs": [
        {
          "output_type": "stream",
          "name": "stdout",
          "text": [
            "2\n",
            "4\n",
            "7\n"
          ]
        }
      ]
    },
    {
      "cell_type": "code",
      "source": [
        "#Question 1.5. tuple1=(10,20,\"Apple\",3.4,'a',[\"master\",\"ji\"],(\"sita\",\"geeta\",22),[{\"roll_no\"N1},\n",
        "#{\"name\"N\"Navneet\"}])\n",
        "#a)Trint(len(tuTle1)@\n",
        "#b)Trint(tuTle1[-1][-1][\"name\"]@\n",
        "#c)fetch the value of roll_no from this tuTle.\n",
        "#d)Trint(tuTle1[-3][1]@\n",
        "#e)fetch the element \"22\" from this tuTle.\n",
        "\n",
        "#a)\n",
        "tuple1 = (10, 20, \"Apple\", 3.4, 'a', [\"master\", \"ji\"], (\"sita\", \"geeta\", 22), [{\"roll_no\": 1}, {\"name\": \"Navneet\"}])\n",
        "print(len(tuple1))\n",
        "#b)\n",
        "print(tuple1[-1][-1][\"name\"])\n",
        "\n",
        "#c)\n",
        "roll_no_value = tuple1[-1][0][\"roll_no\"]\n",
        "#d)\n",
        "\n",
        "print(tuple1[-3][1])\n",
        "\n",
        "#e)\n",
        "element_22 = tuple1[-3][2] # Access the third element of the third-to-last element\n",
        "print(element_22)"
      ],
      "metadata": {
        "id": "BS6vn-9i0DGb"
      },
      "execution_count": null,
      "outputs": []
    },
    {
      "cell_type": "code",
      "source": [
        "#1.6. Write a program to display the appropriate message as per the color of signal(RED-Stop/Yellow-Stay/Green-Go) at the road crossing.\n",
        "\n",
        "def traffic_signal(color):\n",
        "    if color.lower() == \"red\":\n",
        "        return \"Stop! Do not proceed.\"\n",
        "    elif color.lower() == \"yellow\":\n",
        "        return \"Stay alert. Prepare to stop or proceed with caution.\"\n",
        "    elif color.lower() == \"green\":\n",
        "        return \"Go ahead. The road is clear.\"\n",
        "    else:\n",
        "        return \"Invalid color. Please enter 'red', 'yellow', or 'green'.\"\n",
        "\n",
        "# Example usage:\n",
        "user_color = input(\"Enter the color of the traffic signal: \")\n",
        "message = traffic_signal(user_color)\n",
        "print(message)\n"
      ],
      "metadata": {
        "colab": {
          "base_uri": "https://localhost:8080/"
        },
        "id": "dkCA0ICS0MBb",
        "outputId": "d791d9b0-3706-4b4a-a060-c40fa7acc456"
      },
      "execution_count": null,
      "outputs": [
        {
          "output_type": "stream",
          "name": "stdout",
          "text": [
            "Enter the color of the traffic signal: red\n",
            "Stop! Do not proceed.\n"
          ]
        }
      ]
    },
    {
      "cell_type": "code",
      "source": [
        "#1.7. Write a program to create a simple calculator performing only four basic operations(+,-,/,*) .\n",
        "\n",
        "def add(x, y):\n",
        "    return x + y\n",
        "\n",
        "def subtract(x, y):\n",
        "    return x - y\n",
        "\n",
        "def multiply(x, y):\n",
        "    return x * y\n",
        "\n",
        "def divide(x, y):\n",
        "    if y != 0:\n",
        "        return x / y\n",
        "    else:\n",
        "        return \"Error: Division by zero\"\n",
        "\n",
        "# Input from the user\n",
        "num1 = float(input(\"Enter the first number: \"))\n",
        "operator = input(\"Enter an operator (+, -, *, /): \")\n",
        "num2 = float(input(\"Enter the second number: \"))\n",
        "\n",
        "# Perform the calculation based on the operator\n",
        "if operator == \"+\":\n",
        "    result = add(num1, num2)\n",
        "elif operator == \"-\":\n",
        "    result = subtract(num1, num2)\n",
        "elif operator == \"*\":\n",
        "    result = multiply(num1, num2)\n",
        "elif operator == \"/\":\n",
        "    result = divide(num1, num2)\n",
        "else:\n",
        "    result = \"Invalid operator\"\n",
        "\n",
        "print(f\"Result: {result}\")\n"
      ],
      "metadata": {
        "colab": {
          "base_uri": "https://localhost:8080/"
        },
        "id": "FsrD4Eo70p2p",
        "outputId": "d8a72ad0-f0bf-4d2d-ac39-6b90817c4e4d"
      },
      "execution_count": null,
      "outputs": [
        {
          "output_type": "stream",
          "name": "stdout",
          "text": [
            "Enter the first number: 1\n",
            "Enter an operator (+, -, *, /): +\n",
            "Enter the second number: 3\n",
            "Result: 4.0\n"
          ]
        }
      ]
    },
    {
      "cell_type": "code",
      "source": [
        "#1.8. Write a program to find the larger of the three pre-specified numbers using ternary operators.\n",
        "# Pre-specified numbers\n",
        "num1 = 10\n",
        "num2 = 20\n",
        "num3 = 15\n",
        "\n",
        "# Find the largest number using ternary operators\n",
        "largest = num1 if (num1 > num2 and num1 > num3) else (num2 if num2 > num3 else num3)\n",
        "\n",
        "print(f\"The largest number is: {largest}\")\n",
        "\n"
      ],
      "metadata": {
        "colab": {
          "base_uri": "https://localhost:8080/"
        },
        "id": "AX8rJsu902fR",
        "outputId": "54f06901-389b-4d6b-a414-0307cf252e43"
      },
      "execution_count": null,
      "outputs": [
        {
          "output_type": "stream",
          "name": "stdout",
          "text": [
            "The largest number is: 20\n"
          ]
        }
      ]
    },
    {
      "cell_type": "code",
      "source": [
        "#1.9. Write a program to find the factors of a whole number using a while loop.\n",
        "\n",
        "def find_factors(number):\n",
        "    factors = []\n",
        "    divisor = 1\n",
        "\n",
        "    while divisor <= number:\n",
        "        if number % divisor == 0:\n",
        "            factors.append(divisor)\n",
        "        divisor += 1\n",
        "\n",
        "    return factors\n",
        "\n",
        "try:\n",
        "    user_input = int(input(\"Enter a positive whole number: \"))\n",
        "    if user_input <= 0:\n",
        "        print(\"Please enter a positive whole number.\")\n",
        "    else:\n",
        "        result = find_factors(user_input)\n",
        "        print(f\"The factors of {user_input} are: {result}\")\n",
        "except ValueError:\n",
        "    print(\"Invalid input. Please enter a valid positive whole number.\")\n"
      ],
      "metadata": {
        "colab": {
          "base_uri": "https://localhost:8080/"
        },
        "id": "IGyG3YXQ1V1r",
        "outputId": "e395480d-b0b0-4f5d-9594-bf09f6a39401"
      },
      "execution_count": null,
      "outputs": [
        {
          "output_type": "stream",
          "name": "stdout",
          "text": [
            "Enter a positive whole number: 70\n",
            "The factors of 70 are: [1, 2, 5, 7, 10, 14, 35, 70]\n"
          ]
        }
      ]
    },
    {
      "cell_type": "code",
      "source": [
        "#1.10. Write a program to find the sum of all the positive numbers entered by the user. As soon as the user\n",
        "sum1 = 0\n",
        "print(\"Enter numbers to find their sum (negative number ends the loop):\")\n",
        "\n",
        "while True:\n",
        "    entry = int(input())\n",
        "    if entry < 0:\n",
        "        break\n",
        "    sum1 += entry\n",
        "\n",
        "print(\"Sum =\", sum1)\n",
        "\n"
      ],
      "metadata": {
        "colab": {
          "base_uri": "https://localhost:8080/"
        },
        "id": "ViRiX87m1mTk",
        "outputId": "0b94b382-3f4f-4258-d82d-bf2fb747f19a"
      },
      "execution_count": null,
      "outputs": [
        {
          "output_type": "stream",
          "name": "stdout",
          "text": [
            "Enter numbers to find their sum (negative number ends the loop):\n",
            "78\n",
            "90\n",
            "34\n",
            "-3\n",
            "Sum = 202\n"
          ]
        }
      ]
    },
    {
      "cell_type": "code",
      "source": [
        "#1.11Write a program to find prime numbers between 2 to 100 using nested for loops.\n",
        "\n",
        "for i in range(2, 101):\n",
        "    is_prime = True\n",
        "    for j in range(2, int(i**0.5) + 1):\n",
        "        if i % j == 0:\n",
        "            is_prime = False\n",
        "            break\n",
        "    if is_prime:\n",
        "        print(i)\n",
        "\n"
      ],
      "metadata": {
        "colab": {
          "base_uri": "https://localhost:8080/"
        },
        "id": "zEYNO_MS14Ns",
        "outputId": "822ad287-b515-4faa-effa-ed38d9b9e5fb"
      },
      "execution_count": null,
      "outputs": [
        {
          "output_type": "stream",
          "name": "stdout",
          "text": [
            "2\n",
            "3\n",
            "5\n",
            "7\n",
            "11\n",
            "13\n",
            "17\n",
            "19\n",
            "23\n",
            "29\n",
            "31\n",
            "37\n",
            "41\n",
            "43\n",
            "47\n",
            "53\n",
            "59\n",
            "61\n",
            "67\n",
            "71\n",
            "73\n",
            "79\n",
            "83\n",
            "89\n",
            "97\n"
          ]
        }
      ]
    },
    {
      "cell_type": "code",
      "source": [
        "#1.12. Write the programs for the following:\n",
        "#. Accept the marks of the student in five major subjects and display the same.\n",
        "#. Calculate the sum of the marks of all subjects.Divide the total marks by number of subjects (i.e. 5), calculate\n",
        "#ercentage = total marks/5 and disTlay the TercentageS\n",
        " #Find the grade of the student as their the following criteria . Hint: Use Match & case for this.:\n",
        "\n",
        "# Accept marks for five subjects\n",
        "subject_names = [\"English\", \"Math\", \"Science\", \"History\", \"Geography\"]\n",
        "marks = []\n",
        "\n",
        "for subject in subject_names:\n",
        "    try:\n",
        "        mark = float(input(f\"Enter marks for {subject}: \"))\n",
        "        marks.append(mark)\n",
        "    except ValueError:\n",
        "        print(\"Invalid input. Please enter a valid numeric value.\")\n",
        "\n",
        "# Display entered marks\n",
        "print(\"\\nEntered marks:\")\n",
        "for i, subject in enumerate(subject_names):\n",
        "    print(f\"{subject}: {marks[i]}\")\n",
        "\n",
        "# Calculate total marks and percentage\n",
        "total_marks = sum(marks)\n",
        "percentage = total_marks / 5\n",
        "\n",
        "print(f\"\\nTotal marks: {total_marks}\")\n",
        "print(f\"Percentage: {percentage:.2f}%\")\n",
        "\n",
        "# Determine the grade\n",
        "if percentage >= 90:\n",
        "    grade = \"A+\"\n",
        "elif percentage >= 80:\n",
        "    grade = \"A\"\n",
        "elif percentage >= 70:\n",
        "    grade = \"B\"\n",
        "elif percentage >= 60:\n",
        "    grade = \"C\"\n",
        "else:\n",
        "    grade = \"Fail\"\n",
        "\n",
        "print(f\"Grade: {grade}\")\n",
        "\n",
        "\n"
      ],
      "metadata": {
        "colab": {
          "base_uri": "https://localhost:8080/"
        },
        "id": "px1nWMnu2RTJ",
        "outputId": "ae6dbab1-26f7-4761-9655-257db99a37e7"
      },
      "execution_count": null,
      "outputs": [
        {
          "output_type": "stream",
          "name": "stdout",
          "text": [
            "Enter marks for English: 90\n",
            "Enter marks for Math: 80\n",
            "Enter marks for Science: 70\n",
            "Enter marks for History: 76\n",
            "Enter marks for Geography: 92\n",
            "\n",
            "Entered marks:\n",
            "English: 90.0\n",
            "Math: 80.0\n",
            "Science: 70.0\n",
            "History: 76.0\n",
            "Geography: 92.0\n",
            "\n",
            "Total marks: 408.0\n",
            "Percentage: 81.60%\n",
            "Grade: A\n"
          ]
        }
      ]
    },
    {
      "cell_type": "code",
      "source": [
        "#1.13. Write a program for VIBGYOR Spectrum based on their Wavelength using.\n",
        "#Wavelength Range:\n",
        "\n",
        "def get_color(wavelength):\n",
        "    if 380 <= wavelength < 450:\n",
        "        return \"Violet\"\n",
        "    elif 450 <= wavelength < 495:\n",
        "        return \"Indigo\"\n",
        "    elif 495 <= wavelength < 570:\n",
        "        return \"Blue\"\n",
        "    elif 570 <= wavelength < 590:\n",
        "        return \"Green\"\n",
        "    elif 590 <= wavelength < 620:\n",
        "        return \"Yellow\"\n",
        "    elif 620 <= wavelength < 750:\n",
        "        return \"Orange\"\n",
        "    elif 750 <= wavelength <= 700:\n",
        "        return \"Red\"\n",
        "    else:\n",
        "        return \"Invalid wavelength\"\n",
        "\n",
        "try:\n",
        "    user_wavelength = float(input(\"Enter a wavelength (in nanometers): \"))\n",
        "    color = get_color(user_wavelength)\n",
        "    print(f\"The color corresponding to {user_wavelength} nm is {color}.\")\n",
        "except ValueError:\n",
        "    print(\"Invalid input. Please enter a valid numeric wavelength.\")\n"
      ],
      "metadata": {
        "colab": {
          "base_uri": "https://localhost:8080/"
        },
        "id": "BkCR1f2L27gx",
        "outputId": "f5fbf429-0d19-405b-f44e-abce2d60dc39"
      },
      "execution_count": null,
      "outputs": [
        {
          "output_type": "stream",
          "name": "stdout",
          "text": [
            "Enter a wavelength (in nanometers): 89\n",
            "The color corresponding to 89.0 nm is Invalid wavelength.\n"
          ]
        }
      ]
    },
    {
      "cell_type": "code",
      "source": [
        "#1.14.Consider the gravitational interactions between the Earth, Moon, and Sun in our solar system.\n",
        "#Given:\n",
        "#mass_earth = 5.972e24 # Mass of Earth in kilograms\n",
        "#mass_moon = 7.34767309e22 # Mass of Moon in kilograms\n",
        "#mass_sun = .989e30 # Mass of Sun in kilograms\n",
        "#distan0e_earth_sun = .496e # Average distan0e between Earth and Sun in meters\n",
        "#distan0e_moon_earth = 3.844e8 # Average distan0e between Moon and Earth in meters\n",
        "#Tasks\n",
        "#. Cal0ulate the gravitational for0e between the Earth and the Sun\n",
        "#. Cal0ulate the gravitational for0e between the Moon and the Earth\n",
        "#. Compare the 0al0ulated for0es to determine whi0h gravitational for0e is stronger\n",
        "#. Explain whi0h 0elestial body (Earth or Moon is more attra0ted to the other based on the 0omparison\n",
        "\n",
        "\n",
        "\n",
        "# Given data\n",
        "mass_earth = 5.972e24  # Mass of Earth in kilograms\n",
        "mass_moon = 7.34767309e22  # Mass of Moon in kilograms\n",
        "mass_sun = 1.989e30  # Mass of Sun in kilograms\n",
        "distance_earth_sun = 1.497e11  # Average distance between Earth and Sun in meters\n",
        "distance_moon_earth = 3.844e8  # Average distance between Moon and Earth in meters\n",
        "G = 6.67e-11  # Gravitational constant in m^3 kg^(-1) s^(-2)\n",
        "\n",
        "# Calculate gravitational forces\n",
        "force_earth_sun = G * mass_earth * mass_sun / distance_earth_sun**2\n",
        "force_moon_earth = G * mass_moon * mass_earth / distance_moon_earth**2\n",
        "\n",
        "# Compare forces\n",
        "if force_earth_sun > force_moon_earth:\n",
        "    stronger_force = \"Earth-Sun\"\n",
        "else:\n",
        "    stronger_force = \"Moon-Earth\"\n",
        "\n",
        "print(f\"Gravitational force between Earth and Sun: {force_earth_sun:.2e} N\")\n",
        "print(f\"Gravitational force between Moon and Earth: {force_moon_earth:.2e} N\")\n",
        "print(f\"The stronger gravitational force is {stronger_force}.\")\n"
      ],
      "metadata": {
        "colab": {
          "base_uri": "https://localhost:8080/"
        },
        "id": "fdagF9Pg3a8P",
        "outputId": "22fa3f4c-3b7b-494c-bfe1-9e115efa923c"
      },
      "execution_count": null,
      "outputs": [
        {
          "output_type": "stream",
          "name": "stdout",
          "text": [
            "Gravitational force between Earth and Sun: 3.54e+22 N\n",
            "Gravitational force between Moon and Earth: 1.98e+20 N\n",
            "The stronger gravitational force is Earth-Sun.\n"
          ]
        }
      ]
    },
    {
      "cell_type": "code",
      "source": [
        "#24. Design and implement a Python program for managing student information using object-oriented\n",
        "#principles. Create a class called `Student` with encapsulated attributes for name, age, and roll number.\n",
        "#Implement getter and setter methods for these attributes. Additionally, provide methods to display student\n",
        "#information and update student details.\n",
        "#Tasks\n",
        "#. Define the `Student` class with encapsulated attributes\n",
        "#. Implement getter and setter methods for the attributes\n",
        "#Write methods to display student information and update details\n",
        "#. Create instances of the `Student` class and test the implemented functionality\n",
        "\n",
        "\n",
        "class Student:\n",
        "    def __init__(self, name, age, roll_number):\n",
        "        self._name = name\n",
        "        self._age = age\n",
        "        self._roll_number = roll_number\n",
        "\n",
        "    # Getter methods\n",
        "    def get_name(self):\n",
        "        return self._name\n",
        "\n",
        "    def get_age(self):\n",
        "        return self._age\n",
        "\n",
        "    def get_roll_number(self):\n",
        "        return self._roll_number\n",
        "\n",
        "    # Setter methods\n",
        "    def set_name(self, name):\n",
        "        self._name = name\n",
        "\n",
        "    def set_age(self, age):\n",
        "        self._age = age\n",
        "\n",
        "    def set_roll_number(self, roll_number):\n",
        "        self._roll_number = roll_number\n",
        "\n",
        "    # Display student information\n",
        "    def display_info(self):\n",
        "        print(f\"Name: {self._name}\")\n",
        "        print(f\"Age: {self._age}\")\n",
        "        print(f\"Roll Number: {self._roll_number}\")\n",
        "\n",
        "# Create an instance of the Student class\n",
        "student1 = Student(\"Alice\", 20, \"A123\")\n",
        "\n",
        "# Display initial student information\n",
        "print(\"Initial Student Information:\")\n",
        "student1.display_info()\n",
        "\n",
        "# Update student details\n",
        "student1.set_age(21)\n",
        "student1.set_roll_number(\"B456\")\n",
        "\n",
        "# Display updated student information\n",
        "print(\"\\nUpdated Student Information:\")\n",
        "student1.display_info()\n",
        "\n"
      ],
      "metadata": {
        "colab": {
          "base_uri": "https://localhost:8080/"
        },
        "id": "KdCmafKi4TZN",
        "outputId": "dacc6df5-7777-488f-db5c-681951142f6b"
      },
      "execution_count": null,
      "outputs": [
        {
          "output_type": "stream",
          "name": "stdout",
          "text": [
            "Initial Student Information:\n",
            "Name: Alice\n",
            "Age: 20\n",
            "Roll Number: A123\n",
            "\n",
            "Updated Student Information:\n",
            "Name: Alice\n",
            "Age: 21\n",
            "Roll Number: B456\n"
          ]
        }
      ]
    },
    {
      "cell_type": "code",
      "source": [
        "#3.Develop a Python program for managing library resources efficiently. Design a class named `LibraryBoo`\n",
        "#with attributes lie boo name, author, and availability status. Implement methods for borrowing and\n",
        "#returning boos while ensuring proper encapsulation of attributes.\n",
        "#Tasks\n",
        "# 1. Create the `LibraryBook` class with encapsulated attributes\n",
        "# 2. Implement methods for borrowing and returning books\n",
        "# 3. Ensure proper encapsulation to protect book details\n",
        "# 4. Test the borrowing and returning functionality with sample data.\n",
        "class LibraryBook:\n",
        "    def __init__(self, book_name, author):\n",
        "        self._book_name = book_name\n",
        "        self._author = author\n",
        "        self._available = True\n",
        "\n",
        "    # Getter methods\n",
        "    def get_book_name(self):\n",
        "        return self._book_name\n",
        "\n",
        "    def get_author(self):\n",
        "        return self._author\n",
        "\n",
        "    def is_available(self):\n",
        "        return self._available\n",
        "\n",
        "    # Borrow the book\n",
        "    def borrow_book(self):\n",
        "        if self._available:\n",
        "            self._available = False\n",
        "            print(f\"{self._book_name} by {self._author} has been borrowed.\")\n",
        "        else:\n",
        "            print(f\"{self._book_name} is not available for borrowing.\")\n",
        "\n",
        "    # Return the book\n",
        "    def return_book(self):\n",
        "        if not self._available:\n",
        "            self._available = True\n",
        "            print(f\"{self._book_name} has been returned. Thank you!\")\n",
        "        else:\n",
        "            print(f\"{self._book_name} was not borrowed.\")\n",
        "\n",
        "# Example usage\n",
        "if __name__ == \"__main__\":\n",
        "    book1 = LibraryBook(\"The Great Gatsby\", \"F. Scott Fitzgerald\")\n",
        "    book2 = LibraryBook(\"To Kill a Mockingbird\", \"Harper Lee\")\n",
        "\n",
        "    # Borrow and return books\n",
        "    book1.borrow_book()\n",
        "    book1.return_book()\n",
        "\n",
        "    book2.borrow_book()\n",
        "    book2.borrow_book()\n",
        "    book2.return_book()\n",
        "\n"
      ],
      "metadata": {
        "colab": {
          "base_uri": "https://localhost:8080/"
        },
        "id": "dDNRH_1G5Cml",
        "outputId": "210d8993-3d2a-43ab-b3cc-980d6e5cb0e2"
      },
      "execution_count": null,
      "outputs": [
        {
          "output_type": "stream",
          "name": "stdout",
          "text": [
            "The Great Gatsby by F. Scott Fitzgerald has been borrowed.\n",
            "The Great Gatsby has been returned. Thank you!\n",
            "To Kill a Mockingbird by Harper Lee has been borrowed.\n",
            "To Kill a Mockingbird is not available for borrowing.\n",
            "To Kill a Mockingbird has been returned. Thank you!\n"
          ]
        }
      ]
    },
    {
      "cell_type": "code",
      "source": [
        "#4.Create a simple baning system using object-oriented concepts in Python. Design classes representing\n",
        "#different types of ban accounts such as savings and checing. Implement methods for deposit, withdraw,\n",
        "#and balance inquiry. Utilize inheritance to manage different account types efficiently.\n",
        "#Tasks\n",
        "#1. Define base class(es) for bank accounts with common attributes and methods\n",
        "# 2. Implement subclasses for specific account types (e.g., SavingsAccount, CheckingAccount)\n",
        "# 3. Provide methods for deposit, withdraw, and balance inquiry in each subclass\n",
        "# 4. Test the banking system by creating instances of different account types and performing transactions.\n",
        "\n",
        "class BankAccount:\n",
        "    def __init__(self, account_number, balance=0):\n",
        "        self.account_number = account_number\n",
        "        self.balance = balance\n",
        "\n",
        "    def deposit(self, amount):\n",
        "        self.balance += amount\n",
        "        print(f\"Deposited ${amount}. Current balance: ${self.balance}\")\n",
        "\n",
        "    def withdraw(self, amount):\n",
        "        if self.balance >= amount:\n",
        "            self.balance -= amount\n",
        "            print(f\"Withdrew ${amount}. Current balance: ${self.balance}\")\n",
        "        else:\n",
        "            print(\"Insufficient funds.\")\n",
        "\n",
        "    def get_balance(self):\n",
        "        return self.balance\n",
        "\n",
        "\n",
        "class SavingsAccount(BankAccount):\n",
        "    def __init__(self, account_number, balance=0, interest_rate=0.02):\n",
        "        super().__init__(account_number, balance)\n",
        "        self.interest_rate = interest_rate\n",
        "\n",
        "    def add_interest(self):\n",
        "        interest = self.balance * self.interest_rate\n",
        "        self.balance += interest\n",
        "        print(f\"Added interest. Current balance: ${self.balance}\")\n",
        "\n",
        "\n",
        "class CheckingAccount(BankAccount):\n",
        "    def __init__(self, account_number, balance=0, overdraft_limit=100):\n",
        "        super().__init__(account_number, balance)\n",
        "        self.overdraft_limit = overdraft_limit\n",
        "\n",
        "    def withdraw(self, amount):\n",
        "        if self.balance + self.overdraft_limit >= amount:\n",
        "            super().withdraw(amount)\n",
        "        else:\n",
        "            print(\"Exceeds overdraft limit.\")\n",
        "\n",
        "\n",
        "# Example usage\n",
        "if __name__ == \"__main__\":\n",
        "    savings = SavingsAccount(\"SA123\", balance=1000)\n",
        "    checking = CheckingAccount(\"CA456\", balance=500, overdraft_limit=200)\n",
        "\n",
        "    savings.deposit(200)\n",
        "    savings.add_interest()\n",
        "    savings.withdraw(300)\n",
        "\n",
        "    checking.deposit(100)\n",
        "    checking.withdraw(800)\n",
        "    checking.withdraw(300)\n",
        "\n"
      ],
      "metadata": {
        "colab": {
          "base_uri": "https://localhost:8080/"
        },
        "id": "Xoov5bBP5ap1",
        "outputId": "1a58e968-5298-41c1-e8f5-ee9386a00e4c"
      },
      "execution_count": null,
      "outputs": [
        {
          "output_type": "stream",
          "name": "stdout",
          "text": [
            "Deposited $200. Current balance: $1200\n",
            "Added interest. Current balance: $1224.0\n",
            "Withdrew $300. Current balance: $924.0\n",
            "Deposited $100. Current balance: $600\n",
            "Insufficient funds.\n",
            "Withdrew $300. Current balance: $300\n"
          ]
        }
      ]
    },
    {
      "cell_type": "code",
      "source": [
        "#5.Write a Python program that models different animals and their sounds. Design a base class called\n",
        "#`Animal` with a method `mae_sound()`. Create subclasses lie `Dog` and `Cat` that override the\n",
        "#`mae_sound()` method to produce appropriate sounds.\n",
        "#Tasks\n",
        "# 1. Define the `Animal` class with a method `make_sound()`\n",
        "# 2. Create subclasses `Dog` and `Cat` that override the `make_sound()` method\n",
        "# 3. Implement the sound generation logic for each subclass\n",
        "# 4. Test the program by creating instances of `Dog` and `Cat` and calling the `make_sound()` method.\n",
        "\n",
        "class Animal:\n",
        "    def make_sound(self):\n",
        "        pass  # Placeholder method to be overridden by subclasses\n",
        "\n",
        "\n",
        "class Dog(Animal):\n",
        "    def make_sound(self):\n",
        "        return \"Woof! Woof!\"\n",
        "\n",
        "\n",
        "class Cat(Animal):\n",
        "    def make_sound(self):\n",
        "        return \"Meow! Meow!\"\n",
        "\n",
        "\n",
        "# Example usage\n",
        "if __name__ == \"__main__\":\n",
        "    dog = Dog()\n",
        "    cat = Cat()\n",
        "\n",
        "    print(\"Dog says:\", dog.make_sound())\n",
        "    print(\"Cat says:\", cat.make_sound())\n",
        "\n"
      ],
      "metadata": {
        "colab": {
          "base_uri": "https://localhost:8080/"
        },
        "id": "QLw3aQV45yBh",
        "outputId": "4f70b5d5-784f-4dcf-9c16-38ba57fdb6f3"
      },
      "execution_count": null,
      "outputs": [
        {
          "output_type": "stream",
          "name": "stdout",
          "text": [
            "Dog says: Woof! Woof!\n",
            "Cat says: Meow! Meow!\n"
          ]
        }
      ]
    },
    {
      "cell_type": "code",
      "source": [
        "#6.Write a code for Restaurant Management System Using OO4S3\n",
        "#. Create a MenuItem 'lass that has attributes su'h as name, des'ription, pri'e, and 'ategory\n",
        "#.Implement methods to add a new menu item, update menu item information, and remove a menu item\n",
        "#from the menu\n",
        "#. Use en'apsulation to hide the menu item's unique identifi'ation number\n",
        "#.Inherit from the MenuItem 'lass to 'reate a FoodItem 'lass and a BeverageItem 'lass, ea'h with their own\n",
        "#spe'ifi' attributes and methods.\n",
        "\n",
        "\n",
        "class MenuItem:\n",
        "    def __init__(self, name, description, price, category):\n",
        "        self._name = name\n",
        "        self._description = description\n",
        "        self._price = price\n",
        "        self._category = category\n",
        "\n",
        "    def get_name(self):\n",
        "        return self._name\n",
        "\n",
        "    def get_description(self):\n",
        "        return self._description\n",
        "\n",
        "    def get_price(self):\n",
        "        return self._price\n",
        "\n",
        "    def get_category(self):\n",
        "        return self._category\n",
        "\n",
        "\n",
        "class FoodItem(MenuItem):\n",
        "    def __init__(self, name, description, price, category, cuisine):\n",
        "        super().__init__(name, description, price, category)\n",
        "        self._cuisine = cuisine\n",
        "\n",
        "    def get_cuisine(self):\n",
        "        return self._cuisine\n",
        "\n",
        "\n",
        "class BeverageItem(MenuItem):\n",
        "    def __init__(self, name, description, price, category, size):\n",
        "        super().__init__(name, description, price, category)\n",
        "        self._size = size\n",
        "\n",
        "    def get_size(self):\n",
        "        return self._size\n",
        "\n",
        "\n",
        "# Example usage\n",
        "if __name__ == \"__main__\":\n",
        "    burger = FoodItem(\"Classic Burger\", \"Juicy beef patty with cheese\", 8.99, \"Main Course\", \"American\")\n",
        "    coffee = BeverageItem(\"Espresso\", \"Strong black coffee\", 3.49, \"Beverage\", \"Small\")\n",
        "\n",
        "    print(f\"{burger.get_name()} ({burger.get_cuisine()}): {burger.get_price()} USD\")\n",
        "    print(f\"{coffee.get_name()} ({coffee.get_size()}): {coffee.get_price()} USD\")\n"
      ],
      "metadata": {
        "colab": {
          "base_uri": "https://localhost:8080/"
        },
        "id": "2OpCVh2B6IBn",
        "outputId": "d4d2d25b-532c-4e97-e383-41a1147b619b"
      },
      "execution_count": null,
      "outputs": [
        {
          "output_type": "stream",
          "name": "stdout",
          "text": [
            "Classic Burger (American): 8.99 USD\n",
            "Espresso (Small): 3.49 USD\n"
          ]
        }
      ]
    },
    {
      "cell_type": "code",
      "source": [
        "#.Write a code for Hotel Management System using OO4S 3\n",
        "#.Create a Room 'lass that has attributes su'h as room number, room type, rate, and availability (private)\n",
        "#.Implement methods to book a room, 'he'k in a guest, and 'he'k out a guest\n",
        "#.Use en'apsulation to hide the room's unique identifi'ation number\n",
        "#.Inherit from the Room 'lass to 'reate a SuiteRoom 'lass and a StandardRoom 'lass, ea'h with their own\n",
        "#spe'ifi' attributes and methods.\n",
        "\n",
        "class Room:\n",
        "    def __init__(self, room_number, room_type, rate):\n",
        "        self._room_number = room_number\n",
        "        self._room_type = room_type\n",
        "        self._rate = rate\n",
        "        self._available = True\n",
        "\n",
        "    def book_room(self):\n",
        "        if self._available:\n",
        "            self._available = False\n",
        "            print(f\"Room {self._room_number} has been booked.\")\n",
        "        else:\n",
        "            print(f\"Room {self._room_number} is not available.\")\n",
        "\n",
        "    def check_in(self, guest_name):\n",
        "        if not self._available:\n",
        "            print(f\"Guest {guest_name} checked in to Room {self._room_number}.\")\n",
        "        else:\n",
        "            print(f\"Room {self._room_number} is not booked yet.\")\n",
        "\n",
        "    def check_out(self, guest_name):\n",
        "        if not self._available:\n",
        "            self._available = True\n",
        "            print(f\"Guest {guest_name} checked out from Room {self._room_number}.\")\n",
        "        else:\n",
        "            print(f\"Room {self._room_number} is already available.\")\n",
        "\n",
        "\n",
        "class SuiteRoom(Room):\n",
        "    def __init__(self, room_number, rate):\n",
        "        super().__init__(room_number, \"Suite\", rate)\n",
        "\n",
        "\n",
        "class StandardRoom(Room):\n",
        "    def __init__(self, room_number, rate):\n",
        "        super().__init__(room_number, \"Standard\", rate)\n",
        "\n",
        "\n",
        "# Example usage\n",
        "if __name__ == \"__main__\":\n",
        "    suite = SuiteRoom(101, rate=200)\n",
        "    standard = StandardRoom(201, rate=100)\n",
        "\n",
        "    suite.book_room()\n",
        "    suite.check_in(\"Alice\")\n",
        "    suite.check_out(\"Alice\")\n",
        "\n",
        "    standard.book_room()\n",
        "    standard.check_in(\"Bob\")\n",
        "    standard.check_out(\"Bob\")\n"
      ],
      "metadata": {
        "colab": {
          "base_uri": "https://localhost:8080/"
        },
        "id": "_0bOgun26nye",
        "outputId": "4480a2eb-0d89-456e-defa-96742147687d"
      },
      "execution_count": null,
      "outputs": [
        {
          "output_type": "stream",
          "name": "stdout",
          "text": [
            "Room 101 has been booked.\n",
            "Guest Alice checked in to Room 101.\n",
            "Guest Alice checked out from Room 101.\n",
            "Room 201 has been booked.\n",
            "Guest Bob checked in to Room 201.\n",
            "Guest Bob checked out from Room 201.\n"
          ]
        }
      ]
    },
    {
      "cell_type": "code",
      "source": [
        "#8.Write a code for Fitness Club Management System using OO4S3\n",
        "#Create a Member 'lass that has attributes su'h as name, age, membership type, and membership status\n",
        "#(private)\n",
        "# Implement methods to register a new member, renew a membership, and 'an'el a membership\n",
        "# Use en'apsulation to hide the member's unique identifi'ation number\n",
        "# Inherit from the Member 'lass to 'reate a FamilyMember 'lass and an IndividualMember 'lass, ea'h with\n",
        "#their own spe'ifi' attributes and methods\n",
        "\n",
        "class Room:\n",
        "    def __init__(self, room_number, room_type, rate):\n",
        "        self._room_number = room_number\n",
        "        self._room_type = room_type\n",
        "        self._rate = rate\n",
        "        self._available = True\n",
        "\n",
        "    def book_room(self):\n",
        "        if self._available:\n",
        "            self._available = False\n",
        "            print(f\"Room {self._room_number} has been booked.\")\n",
        "        else:\n",
        "            print(f\"Room {self._room_number} is not available.\")\n",
        "\n",
        "    def check_in(self, guest_name):\n",
        "        if not self._available:\n",
        "            print(f\"Guest {guest_name} checked in to Room {self._room_number}.\")\n",
        "        else:\n",
        "            print(f\"Room {self._room_number} is not booked yet.\")\n",
        "\n",
        "    def check_out(self, guest_name):\n",
        "        if not self._available:\n",
        "            self._available = True\n",
        "            print(f\"Guest {guest_name} checked out from Room {self._room_number}.\")\n",
        "        else:\n",
        "            print(f\"Room {self._room_number} is already available.\")\n",
        "\n",
        "\n",
        "class SuiteRoom(Room):\n",
        "    def __init__(self, room_number, rate):\n",
        "        super().__init__(room_number, \"Suite\", rate)\n",
        "\n",
        "\n",
        "class StandardRoom(Room):\n",
        "    def __init__(self, room_number, rate):\n",
        "        super().__init__(room_number, \"Standard\", rate)\n",
        "\n",
        "\n",
        "# Example usage\n",
        "if __name__ == \"__main__\":\n",
        "    suite = SuiteRoom(101, rate=200)\n",
        "    standard = StandardRoom(201, rate=100)\n",
        "\n",
        "    suite.book_room()\n",
        "    suite.check_in(\"Alice\")\n",
        "    suite.check_out(\"Alice\")\n",
        "\n",
        "    standard.book_room()\n",
        "    standard.check_in(\"Bob\")\n",
        "    standard.check_out(\"Bob\")\n",
        "\n",
        "\n"
      ],
      "metadata": {
        "id": "L3BBoTmU6--W",
        "colab": {
          "base_uri": "https://localhost:8080/"
        },
        "outputId": "e1a98557-8117-447f-b518-52da1fefc2cc"
      },
      "execution_count": null,
      "outputs": [
        {
          "output_type": "stream",
          "name": "stdout",
          "text": [
            "Room 101 has been booked.\n",
            "Guest Alice checked in to Room 101.\n",
            "Guest Alice checked out from Room 101.\n",
            "Room 201 has been booked.\n",
            "Guest Bob checked in to Room 201.\n",
            "Guest Bob checked out from Room 201.\n"
          ]
        }
      ]
    },
    {
      "cell_type": "code",
      "source": [
        "#9.Write a code for Event Management System using OO4S3\n",
        "# Create an Event 'lass that has attributes su'h as name, date, time, lo'ation, and list of attendees (private)\n",
        "# Implement methods to 'reate a new event, add or remove attendees, and get the total number of\n",
        "#attendees\n",
        "# Use en'apsulation to hide the event's unique identifi'ation number\n",
        "# Inherit from the Event 'lass to 'reate a PrivateEvent 'lass and a Publi'Event 'lass, ea'h with their own\n",
        "#spe'ifi' attributes and methods.\n",
        "\n",
        "class Event:\n",
        "    def __init__(self, name, date, time, location):\n",
        "        self.name = name\n",
        "        self.date = date\n",
        "        self.time = time\n",
        "        self.location = location\n",
        "        self._attendees = []  # Private attribute for attendees\n",
        "\n",
        "    def add_attendee(self, attendee):\n",
        "        self._attendees.append(attendee)\n",
        "\n",
        "    def remove_attendee(self, attendee):\n",
        "        if attendee in self._attendees:\n",
        "            self._attendees.remove(attendee)\n",
        "\n",
        "    def get_total_attendees(self):\n",
        "        return len(self._attendees)\n",
        "\n",
        "\n",
        "class PrivateEvent(Event):\n",
        "    def __init__(self, name, date, time, location, unique_id):\n",
        "        super().__init__(name, date, time, location)\n",
        "        self._unique_id = unique_id\n",
        "\n",
        "\n",
        "class PublicEvent(Event):\n",
        "    def __init__(self, name, date, time, location, ticket_price):\n",
        "        super().__init__(name, date, time, location)\n",
        "        self.ticket_price = ticket_price\n",
        "\n",
        "\n",
        "# Example usage\n",
        "if __name__ == \"__main__\":\n",
        "    private_event = PrivateEvent(\"Private Party\", \"2024-07-10\", \"19:00\", \"My House\", unique_id=\"ABC123\")\n",
        "    private_event.add_attendee(\"Alice\")\n",
        "    private_event.add_attendee(\"Bob\")\n",
        "\n",
        "    public_event = PublicEvent(\"Conference\", \"2024-08-15\", \"09:00\", \"Convention Center\", ticket_price=100)\n",
        "    public_event.add_attendee(\"Charlie\")\n",
        "    public_event.add_attendee(\"David\")\n",
        "\n",
        "    print(f\"Private Event Attendees: {private_event.get_total_attendees()}\")\n",
        "    print(f\"Public Event Attendees: {public_event.get_total_attendees()}\")\n",
        "\n"
      ],
      "metadata": {
        "id": "zIDsOBIk9HU-",
        "colab": {
          "base_uri": "https://localhost:8080/"
        },
        "outputId": "52434a4a-5c71-4017-d83d-99ea240ce8cb"
      },
      "execution_count": null,
      "outputs": [
        {
          "output_type": "stream",
          "name": "stdout",
          "text": [
            "Private Event Attendees: 2\n",
            "Public Event Attendees: 2\n"
          ]
        }
      ]
    },
    {
      "cell_type": "code",
      "source": [
        "#10.Write a code for Airline Reservation System using OO4S3\n",
        "# Create a Flight 'lass that has attributes su'h as flight number, departure and arrival airports, departure and\n",
        "#rrival times, and available seats (private)\n",
        "# Implement methods to book a seat, 'an'el a reservation, and get the remaining available seats\n",
        "# Use en'apsulation to hide the flight's unique identifi'ation number\n",
        "# Inherit from the Flight 'lass to 'reate a Domesti'Flight 'lass and an InternationalFlight 'lass, ea'h with their\n",
        "#own spe'ifi' attributes and methods.\n",
        "\n",
        "class Flight:\n",
        "    def __init__(self, flight_number, departure_airport, arrival_airport, departure_time, arrival_time, total_seats):\n",
        "        self.flight_number = flight_number\n",
        "        self.departure_airport = departure_airport\n",
        "        self.arrival_airport = arrival_airport\n",
        "        self.departure_time = departure_time\n",
        "        self.arrival_time = arrival_time\n",
        "        self._available_seats = total_seats  # Private attribute for available seats\n",
        "\n",
        "    def book_seat(self):\n",
        "        if self._available_seats > 0:\n",
        "            self._available_seats -= 1\n",
        "            return True\n",
        "        else:\n",
        "            return False\n",
        "\n",
        "    def cancel_reservation(self):\n",
        "        self._available_seats += 1\n",
        "\n",
        "    def get_remaining_seats(self):\n",
        "        return self._available_seats\n",
        "\n",
        "\n",
        "class DomesticFlight(Flight):\n",
        "    def __init__(self, flight_number, departure_airport, arrival_airport, departure_time, arrival_time, total_seats):\n",
        "        super().__init__(flight_number, departure_airport, arrival_airport, departure_time, arrival_time, total_seats)\n",
        "\n",
        "\n",
        "class InternationalFlight(Flight):\n",
        "    def __init__(self, flight_number, departure_airport, arrival_airport, departure_time, arrival_time, total_seats, visa_required):\n",
        "        super().__init__(flight_number, departure_airport, arrival_airport, departure_time, arrival_time, total_seats)\n",
        "        self.visa_required = visa_required\n",
        "\n",
        "\n",
        "# Example usage\n",
        "if __name__ == \"__main__\":\n",
        "    domestic_flight = DomesticFlight(\"DF101\", \"JFK\", \"LAX\", \"08:00\", \"12:00\", total_seats=150)\n",
        "    domestic_flight.book_seat()\n",
        "    domestic_flight.book_seat()\n",
        "\n",
        "    international_flight = InternationalFlight(\"IF201\", \"LHR\", \"JFK\", \"14:00\", \"18:00\", total_seats=200, visa_required=True)\n",
        "    international_flight.book_seat()\n",
        "\n",
        "    print(f\"Remaining seats (Domestic): {domestic_flight.get_remaining_seats()}\")\n",
        "    print(f\"Remaining seats (International): {international_flight.get_remaining_seats()}\")\n",
        "\n"
      ],
      "metadata": {
        "colab": {
          "base_uri": "https://localhost:8080/"
        },
        "id": "OBCqhVwxU71t",
        "outputId": "bf894110-4db6-49e1-cebb-7e8a014f0082"
      },
      "execution_count": null,
      "outputs": [
        {
          "output_type": "stream",
          "name": "stdout",
          "text": [
            "Remaining seats (Domestic): 148\n",
            "Remaining seats (International): 199\n"
          ]
        }
      ]
    },
    {
      "cell_type": "code",
      "source": [
        "\n",
        "#11. Define a Python module named constants.py containing constants like pi and the speed of light. write three code\n",
        "\n",
        "# constants.py\n",
        "\n",
        "# Mathematical constant: π (pi)\n",
        "PI = 3.141592653589793\n",
        "\n",
        "# Physical constant: Speed of light in a vacuum (meters per second)\n",
        "SPEED_OF_LIGHT = 299792458.0\n",
        "\n",
        "\n",
        "# main.py\n",
        "from constants import PI, SPEED_OF_LIGHT\n",
        "\n",
        "print(f\"π (pi) is approximately {PI:.6f}\")\n",
        "print(f\"Speed of light: {SPEED_OF_LIGHT:.2f} m/s\")"
      ],
      "metadata": {
        "id": "pGMHVLv0WGdv"
      },
      "execution_count": null,
      "outputs": []
    },
    {
      "cell_type": "code",
      "source": [
        "#12. Write a Python module named calculator.py containing functions for addition, subtraction,multiplication, and division.\n",
        "\n",
        "# calculator.py\n",
        "\n",
        "def add(x, y):\n",
        "    \"\"\"Adds two numbers.\"\"\"\n",
        "    return x + y\n",
        "\n",
        "def subtract(x, y):\n",
        "    \"\"\"Subtracts y from x.\"\"\"\n",
        "    return x - y\n",
        "\n",
        "def multiply(x, y):\n",
        "    \"\"\"Multiplies two numbers.\"\"\"\n",
        "    return x * y\n",
        "\n",
        "def divide(x, y):\n",
        "    \"\"\"Divides x by y (non-zero division).\"\"\"\n",
        "    if y != 0:\n",
        "        return x / y\n",
        "    else:\n",
        "        raise ValueError(\"Cannot divide by zero\")\n",
        "\n",
        "# Example usage:\n",
        "if __name__ == \"__main__\":\n",
        "    num1 = 10\n",
        "    num2 = 5\n",
        "    print(f\"Addition: {add(num1, num2)}\")\n",
        "    print(f\"Subtraction: {subtract(num1, num2)}\")\n",
        "    print(f\"Multiplication: {multiply(num1, num2)}\")\n",
        "    print(f\"Division: {divide(num1, num2)}\")\n"
      ],
      "metadata": {
        "colab": {
          "base_uri": "https://localhost:8080/"
        },
        "id": "Ur9_hXFZXFKt",
        "outputId": "b1725127-878d-478e-8cdd-8c4ebb45a471"
      },
      "execution_count": null,
      "outputs": [
        {
          "output_type": "stream",
          "name": "stdout",
          "text": [
            "Addition: 15\n",
            "Subtraction: 5\n",
            "Multiplication: 50\n",
            "Division: 2.0\n"
          ]
        }
      ]
    },
    {
      "cell_type": "code",
      "source": [
        "#13. Implement a Python package structure for a project named ecommerce, containing modules for productmnagement and order processing.\n",
        "\n",
        "# products.py\n",
        "\n",
        "class Product:\n",
        "    def __init__(self, product_id, name, price):\n",
        "        self.product_id = product_id\n",
        "        self.name = name\n",
        "        self.price = price\n",
        "\n",
        "class Category:\n",
        "    def __init__(self, category_id, name):\n",
        "        self.category_id = category_id\n",
        "        self.name = name\n"
      ],
      "metadata": {
        "id": "SPBMdcYvXidi"
      },
      "execution_count": null,
      "outputs": []
    },
    {
      "cell_type": "code",
      "source": [
        "#14. Implement a Python module named string_utils.py containing functions for string manipulation, such asreversing and capitalizing strings.\n",
        "\n",
        "# string_utils.py\n",
        "\n",
        "def reverse_string(s):\n",
        "    \"\"\"Reverses the input string.\"\"\"\n",
        "    return s[::-1]\n",
        "\n",
        "def capitalize_first_letter(s):\n",
        "    \"\"\"Capitalizes the first letter of the input string.\"\"\"\n",
        "    return s.capitalize()\n",
        "\n",
        "# Example usage:\n",
        "if __name__ == \"__main__\":\n",
        "    original_string = \"hello world\"\n",
        "    reversed_string = reverse_string(original_string)\n",
        "    capitalized_string = capitalize_first_letter(original_string)\n",
        "\n",
        "    print(f\"Original: {original_string}\")\n",
        "    print(f\"Reversed: {reversed_string}\")\n",
        "    print(f\"Capitalized: {capitalized_string}\")\n"
      ],
      "metadata": {
        "colab": {
          "base_uri": "https://localhost:8080/"
        },
        "id": "8RuowIsJX0a-",
        "outputId": "0a966dab-92bf-4268-a41a-26feb66caea6"
      },
      "execution_count": null,
      "outputs": [
        {
          "output_type": "stream",
          "name": "stdout",
          "text": [
            "Original: hello world\n",
            "Reversed: dlrow olleh\n",
            "Capitalized: Hello world\n"
          ]
        }
      ]
    },
    {
      "cell_type": "code",
      "source": [
        "#15. Write a Python module named file_operations.py with functions for reading, writing, and appendingdata to a file.\n",
        "\n",
        "# file_operations.py\n",
        "\n",
        "def read_file(file_path):\n",
        "    \"\"\"Reads the content of a file and returns it as a string.\"\"\"\n",
        "    try:\n",
        "        with open(file_path, \"r\") as file:\n",
        "            return file.read()\n",
        "    except FileNotFoundError:\n",
        "        return \"File not found.\"\n",
        "\n",
        "def write_to_file(file_path, content):\n",
        "    \"\"\"Writes the given content to a file (overwriting existing content).\"\"\"\n",
        "    with open(file_path, \"w\") as file:\n",
        "        file.write(content)\n",
        "\n",
        "def append_to_file(file_path, content):\n",
        "    \"\"\"Appends the given content to the end of a file.\"\"\"\n",
        "    with open(file_path, \"a\") as file:\n",
        "        file.write(content + \"\\n\")  # Add a newline for clarity\n",
        "\n",
        "# Example usage:\n",
        "if __name__ == \"__main__\":\n",
        "    file_path = \"my_file.txt\"\n",
        "    write_to_file(file_path, \"Hello, world!\")\n",
        "    append_to_file(file_path, \"This is additional content.\")\n",
        "    print(read_file(file_path))\n"
      ],
      "metadata": {
        "colab": {
          "base_uri": "https://localhost:8080/"
        },
        "id": "msp3bwOuYJLd",
        "outputId": "86aad61e-bbbc-4565-d391-f48fcc2a9856"
      },
      "execution_count": null,
      "outputs": [
        {
          "output_type": "stream",
          "name": "stdout",
          "text": [
            "Hello, world!This is additional content.\n",
            "\n"
          ]
        }
      ]
    },
    {
      "cell_type": "code",
      "source": [
        "#16. Write a Python program to create a text file named \"employees.txt\" and write the details of employees,including their name, age, and salary, into the file.\n",
        "def write_employee_details(filename):\n",
        "    try:\n",
        "        with open(filename, \"w\") as file:\n",
        "            while True:\n",
        "                name = input(\"Enter employee name (or 'exit' to stop): \")\n",
        "                if name.lower() == \"exit\":\n",
        "                    break\n",
        "                age = int(input(\"Enter employee age: \"))\n",
        "                salary = float(input(\"Enter employee salary: \"))\n",
        "                file.write(f\"{name}, {age}, {salary:.2f}\\n\")\n",
        "        print(f\"Employee details written to {filename}\")\n",
        "    except Exception as e:\n",
        "        print(f\"Error writing to file: {e}\")\n",
        "\n",
        "if __name__ == \"__main__\":\n",
        "    file_name = \"employees.txt\"\n",
        "    write_employee_details(file_name)\n",
        "\n",
        "\n"
      ],
      "metadata": {
        "colab": {
          "base_uri": "https://localhost:8080/"
        },
        "id": "0kybRtUyYWps",
        "outputId": "d6faa2c9-4e7a-456c-bd7c-c0aa17f9a230"
      },
      "execution_count": null,
      "outputs": [
        {
          "output_type": "stream",
          "name": "stdout",
          "text": [
            "Enter employee name (or 'exit' to stop): subho\n",
            "Enter employee age: monalisa\n",
            "Error writing to file: invalid literal for int() with base 10: 'monalisa'\n"
          ]
        }
      ]
    },
    {
      "cell_type": "code",
      "source": [
        "#17. Develop a Python script that opens an existing text file named \"inventory.txt\" in read mode and displaysthe contents of the file line by line.\n",
        "def read_file_line_by_line(file_path):\n",
        "    try:\n",
        "        with open(file_path, \"r\") as file:\n",
        "            for line in file:\n",
        "                print(line.strip())  # Remove newline characters\n",
        "    except FileNotFoundError:\n",
        "        print(f\"File '{file_path}' not found.\")\n",
        "\n",
        "# Example usage:\n",
        "if __name__ == \"__main__\":\n",
        "    file_path = \"inventory.txt\"\n",
        "    read_file_line_by_line(file_path)\n"
      ],
      "metadata": {
        "colab": {
          "base_uri": "https://localhost:8080/"
        },
        "id": "gwwd_G2fYkte",
        "outputId": "87e2b529-f62f-4f26-9300-9b16073c58fd"
      },
      "execution_count": null,
      "outputs": [
        {
          "output_type": "stream",
          "name": "stdout",
          "text": [
            "File 'inventory.txt' not found.\n"
          ]
        }
      ]
    },
    {
      "cell_type": "code",
      "source": [
        "#18. Create a Python script that reads a text file named \"expenses.txt\" and calculates the total amount spenton various expenses listed in the file.\n",
        "\n",
        "def read_expenses(filename):\n",
        "    total = 0\n",
        "    try:\n",
        "        with open(filename, 'r') as file:\n",
        "            for line in file:\n",
        "                # Split the line into individual values\n",
        "                values = line.split()\n",
        "                for value in values:\n",
        "                    try:\n",
        "                        # Convert each value to a float and add it to the total\n",
        "                        total += float(value)\n",
        "                    except ValueError:\n",
        "                        # Ignore non-numeric values\n",
        "                        pass\n",
        "        return total\n",
        "    except FileNotFoundError:\n",
        "        print(f\"File '{filename}' not found.\")\n",
        "        return None\n",
        "\n",
        "# Usage example\n",
        "expenses_total = read_expenses(\"expenses.txt\")\n",
        "if expenses_total is not None:\n",
        "    print(f\"Total expenses: ${expenses_total:.2f}\")\n"
      ],
      "metadata": {
        "id": "R_cjwi_1ZBFD",
        "colab": {
          "base_uri": "https://localhost:8080/"
        },
        "outputId": "41ea4b59-f055-4462-827b-998ab79f7314"
      },
      "execution_count": null,
      "outputs": [
        {
          "output_type": "stream",
          "name": "stdout",
          "text": [
            "File 'expenses.txt' not found.\n"
          ]
        }
      ]
    },
    {
      "cell_type": "code",
      "source": [
        "#19. Create a Python program that reads a text file named \"paragraph.txt\" and counts the occurrences ofeach word in the paragraph, displaying the results in alphabetical order.\n",
        "\n",
        "def count_word_occurrences(filename):\n",
        "    word_counts = {}\n",
        "    try:\n",
        "        with open(filename, 'r') as file:\n",
        "            for line in file:\n",
        "                # Remove punctuation and convert to lowercase\n",
        "                line = line.lower().strip()\n",
        "                line = line.translate(str.maketrans('', '', string.punctuation))\n",
        "                words = line.split()\n",
        "\n",
        "                for word in words:\n",
        "                    if word in word_counts:\n",
        "                        word_counts[word] += 1\n",
        "                    else:\n",
        "                        word_counts[word] = 1\n",
        "\n",
        "        # Display results in alphabetical order\n",
        "        for word, count in sorted(word_counts.items()):\n",
        "            print(f\"{word}: {count}\")\n",
        "    except FileNotFoundError:\n",
        "        print(f\"File '{filename}' not found.\")\n",
        "\n",
        "# Usage example\n",
        "count_word_occurrences(\"paragraph.txt\")\n"
      ],
      "metadata": {
        "colab": {
          "base_uri": "https://localhost:8080/"
        },
        "id": "cH-uOwXKcI90",
        "outputId": "6d42ea5d-c33e-402b-8740-4c0b8f99ee9d"
      },
      "execution_count": null,
      "outputs": [
        {
          "output_type": "stream",
          "name": "stdout",
          "text": [
            "File 'paragraph.txt' not found.\n"
          ]
        }
      ]
    },
    {
      "cell_type": "code",
      "source": [
        "#20. What do you mean by Measure of Central Tendency and Measures of Dispersion .How it can becalculated.\n",
        "\n",
        "import statistics\n",
        "\n",
        "def calculate_statistics(data):\n",
        "    try:\n",
        "        # Calculate mean\n",
        "        mean_value = statistics.mean(data)\n",
        "        print(f\"Mean: {mean_value:.2f}\")\n",
        "\n",
        "        # Calculate standard deviation\n",
        "        stdev_value = statistics.stdev(data)\n",
        "        print(f\"Standard Deviation: {stdev_value:.2f}\")\n",
        "    except statistics.StatisticsError:\n",
        "        print(\"Error: Insufficient data for calculation.\")\n",
        "\n",
        "# Example usage\n",
        "data_points = [10, 15, 20, 25, 30]\n",
        "calculate_statistics(data_points)\n"
      ],
      "metadata": {
        "colab": {
          "base_uri": "https://localhost:8080/"
        },
        "id": "FoQVEkSCcad7",
        "outputId": "0720f7ce-1bc9-43f7-b37c-acfa082ab9ca"
      },
      "execution_count": null,
      "outputs": [
        {
          "output_type": "stream",
          "name": "stdout",
          "text": [
            "Mean: 20.00\n",
            "Standard Deviation: 7.91\n"
          ]
        }
      ]
    },
    {
      "cell_type": "code",
      "source": [
        "#24. Calculate coefficient of correlation between the marks obtained by 10 students in Accountancy andstatistics:\n",
        "\n",
        "#Use Karl Pearson’s Coefficient of Correlation Method to find it.\n",
        "\n",
        "\n",
        "\n",
        "import math\n",
        "\n",
        "def calculate_correlation(x_values, y_values):\n",
        "    n = len(x_values)\n",
        "    mean_x = sum(x_values) / n\n",
        "    mean_y = sum(y_values) / n\n",
        "\n",
        "    # Calculate deviations\n",
        "    deviations_x = [x - mean_x for x in x_values]\n",
        "    deviations_y = [y - mean_y for y in y_values]\n",
        "\n",
        "    # Calculate sum of products of deviations\n",
        "    sum_xy = sum(x * y for x, y in zip(deviations_x, deviations_y))\n",
        "\n",
        "    # Calculate standard deviations\n",
        "    sigma_x = math.sqrt(sum(x ** 2 for x in deviations_x) / n)\n",
        "    sigma_y = math.sqrt(sum(y ** 2 for y in deviations_y) / n)\n",
        "\n",
        "    # Calculate correlation coefficient\n",
        "    r = sum_xy / (n * sigma_x * sigma_y)\n",
        "    return r\n",
        "\n",
        "# Example usage\n",
        "accountancy_marks = [80, 85, 78, 92, 88, 75, 90, 82, 87, 95]\n",
        "statistics_marks = [75, 70, 85, 88, 92, 80, 84, 78, 90, 86]\n",
        "\n",
        "correlation_coefficient = calculate_correlation(accountancy_marks, statistics_marks)\n",
        "print(f\"Coefficient of Correlation (r): {correlation_coefficient:.4f}\")\n",
        "\n"
      ],
      "metadata": {
        "colab": {
          "base_uri": "https://localhost:8080/"
        },
        "id": "m-gZYwk1cnps",
        "outputId": "e47d14c0-9681-4a55-b8ca-3185f5a321a2"
      },
      "execution_count": null,
      "outputs": [
        {
          "output_type": "stream",
          "name": "stdout",
          "text": [
            "Coefficient of Correlation (r): 0.4546\n"
          ]
        }
      ]
    },
    {
      "cell_type": "code",
      "source": [
        "#26. Find the most likely price at Delhi corresponding to the price of Rs. 70 at Agra from the following data:Coefficient of correlation between the prices of the two places +0.8.\n",
        "\n",
        "def calculate_most_likely_price(x_agra, mean_x_delhi, mean_y_delhi, stdev_x_delhi, stdev_y_delhi, rho):\n",
        "    deviation_x = x_agra - mean_x_delhi\n",
        "    most_likely_price = mean_y_delhi + (rho * stdev_y_delhi / stdev_x_delhi) * deviation_x\n",
        "    return most_likely_price\n",
        "\n",
        "# Given data\n",
        "x_agra = 70\n",
        "mean_x_delhi = 75  # Mean price at Delhi\n",
        "mean_y_delhi = 78.2  # Most likely price at Delhi (calculated previously)\n",
        "stdev_x_delhi = 2.5  # Standard deviation of prices at Delhi\n",
        "stdev_y_delhi = 3.5  # Standard deviation of most likely prices at Delhi\n",
        "rho = 0.8\n",
        "\n",
        "# Calculate most likely price at Delhi\n",
        "most_likely_price_delhi = calculate_most_likely_price(x_agra, mean_x_delhi, mean_y_delhi, stdev_x_delhi, stdev_y_delhi, rho)\n",
        "print(f\"Most likely price at Delhi: Rs. {most_likely_price_delhi:.2f}\")\n"
      ],
      "metadata": {
        "colab": {
          "base_uri": "https://localhost:8080/"
        },
        "id": "Io2Leuf6dMJL",
        "outputId": "69cfffdb-a5a6-4fad-be80-3378442a7bf3"
      },
      "execution_count": null,
      "outputs": [
        {
          "output_type": "stream",
          "name": "stdout",
          "text": [
            "Most likely price at Delhi: Rs. 72.60\n"
          ]
        }
      ]
    },
    {
      "cell_type": "code",
      "source": [
        "#27.In a partially destroyed laboratory record of an analysis of correlation data, the following results only are\n",
        "#legible: Variance of x = 9, Regression equations are: (i) 8x−10y = −66; (ii) 40x − 18y = 214. What are (a) the\n",
        "#mean values of x and y, (b) the coefficient of correlation between x and y, (c) the σ of y.\n",
        "\n",
        "\n",
        "\"\"\"Certainly! Let’s break down the given information step by step:\n",
        "\n",
        "Mean Values of x and y:\n",
        "The regression equations provide information about the relationship between x and y. We can extract the mean values from these equations.\n",
        "Let’s start with equation (i): (8x - 10y = -66).\n",
        "Solving for y, we get: (y = \\frac{4}{5}x + \\frac{33}{5}).\n",
        "The mean value of x is the coefficient of x in this equation: (\\bar{x} = \\frac{4}{5}).\n",
        "Now, let’s consider equation (ii): (40x - 18y = 214).\n",
        "Solving for y, we get: (y = \\frac{20}{9}x - \\frac{107}{9}).\n",
        "The mean value of y is the coefficient of x in this equation: (\\bar{y} = \\frac{20}{9}).\n",
        "Coefficient of Correlation ®:\n",
        "The correlation coefficient ((r)) relates to the strength and direction of the linear relationship between x and y.\n",
        "We can use the given regression equations to find the correlation coefficient.\n",
        "The correlation coefficient is the geometric mean of the regression coefficients: [ r = \\sqrt{b_{yx} \\cdot b_{xy}} ] where (b_{yx}) and (b_{xy}) are the slopes from the regression equations.\n",
        "Standard Deviation of y ((\\sigma_y)):\n",
        "We can use the given variance of x ((\\sigma_x^2)) to find the standard deviation of y.\n",
        "Recall that the variance of x is 9, which means (\\sigma_x = 3).\n",
        "The standard deviation of y can be calculated using the correlation coefficient: [ \\sigma_y = \\frac{\\sigma_x}{r} ]\n",
        "Now, let’s compute the values:\n",
        "\n",
        "Mean values:\n",
        "(\\bar{x} = \\frac{4}{5})\n",
        "(\\bar{y} = \\frac{20}{9})\n",
        "Correlation coefficient:\n",
        "Calculate the slopes from the regression equations:\n",
        "(b_{yx} = \\frac{4}{5})\n",
        "(b_{xy} = \\frac{20}{9})\n",
        "Compute the correlation coefficient: [ r = \\sqrt{\\frac{4}{5} \\cdot \\frac{20}{9}} ]\n",
        "Standard deviation of y:\n",
        "Use the given variance of x: [ \\sigma_x = 3 ]\n",
        "Compute (\\sigma_y): [ \\sigma_y = \\frac{\\sigma_x}{r} ]\"\"\""
      ],
      "metadata": {
        "colab": {
          "base_uri": "https://localhost:8080/",
          "height": 200
        },
        "id": "KHoiKuiLd0Ms",
        "outputId": "fe727274-f700-4a1e-9e7e-6dff5c900ed3"
      },
      "execution_count": null,
      "outputs": [
        {
          "output_type": "execute_result",
          "data": {
            "text/plain": [
              "'Certainly! Let’s break down the given information step by step:\\n\\nMean Values of x and y:\\nThe regression equations provide information about the relationship between x and y. We can extract the mean values from these equations.\\nLet’s start with equation (i): (8x - 10y = -66).\\nSolving for y, we get: (y = \\x0crac{4}{5}x + \\x0crac{33}{5}).\\nThe mean value of x is the coefficient of x in this equation: (\\x08ar{x} = \\x0crac{4}{5}).\\nNow, let’s consider equation (ii): (40x - 18y = 214).\\nSolving for y, we get: (y = \\x0crac{20}{9}x - \\x0crac{107}{9}).\\nThe mean value of y is the coefficient of x in this equation: (\\x08ar{y} = \\x0crac{20}{9}).\\nCoefficient of Correlation ®:\\nThe correlation coefficient ((r)) relates to the strength and direction of the linear relationship between x and y.\\nWe can use the given regression equations to find the correlation coefficient.\\nThe correlation coefficient is the geometric mean of the regression coefficients: [ r = \\\\sqrt{b_{yx} \\\\cdot b_{xy}} ] where (b_{yx}) and (b_{xy}) are the slopes from the regression equations.\\nStandard Deviation of y ((\\\\sigma_y)):\\nWe can use the given variance of x ((\\\\sigma_x^2)) to find the standard deviation of y.\\nRecall that the variance of x is 9, which means (\\\\sigma_x = 3).\\nThe standard deviation of y can be calculated using the correlation coefficient: [ \\\\sigma_y = \\x0crac{\\\\sigma_x}{r} ]\\nNow, let’s compute the values:\\n\\nMean values:\\n(\\x08ar{x} = \\x0crac{4}{5})\\n(\\x08ar{y} = \\x0crac{20}{9})\\nCorrelation coefficient:\\nCalculate the slopes from the regression equations:\\n(b_{yx} = \\x0crac{4}{5})\\n(b_{xy} = \\x0crac{20}{9})\\nCompute the correlation coefficient: [ r = \\\\sqrt{\\x0crac{4}{5} \\\\cdot \\x0crac{20}{9}} ]\\nStandard deviation of y:\\nUse the given variance of x: [ \\\\sigma_x = 3 ]\\nCompute (\\\\sigma_y): [ \\\\sigma_y = \\x0crac{\\\\sigma_x}{r} ]'"
            ],
            "application/vnd.google.colaboratory.intrinsic+json": {
              "type": "string"
            }
          },
          "metadata": {},
          "execution_count": 22
        }
      ]
    },
    {
      "cell_type": "code",
      "source": [
        "#37.100 students of a PW IOI obtained the following grades in Data Science paper :\n",
        "#Grade :[A, B, C, D, E]\n",
        "#Total Frequency :[15, 17, 30, 22, 16, 100]\n",
        "#Using the χ 2 test , examine the hypothesis that the distribution of grades is uniform.\n",
        "\n",
        "\n",
        "import numpy as np\n",
        "from scipy.stats import chi2_contingency\n",
        "\n",
        "# Observed frequencies\n",
        "observed_frequencies = np.array([15, 17, 30, 22, 16])\n",
        "\n",
        "# Expected uniform distribution (assuming equal frequencies)\n",
        "total_students = 100\n",
        "expected_frequencies = np.full(5, total_students / 5)\n",
        "\n",
        "# Perform chi-square test\n",
        "chi2, p_value, _, _ = chi2_contingency([observed_frequencies, expected_frequencies])\n",
        "\n",
        "# Significance level (alpha)\n",
        "alpha = 0.05\n",
        "\n",
        "# Compare p-value with alpha\n",
        "if p_value < alpha:\n",
        "    print(\"Reject the null hypothesis. The distribution of grades is not uniform.\")\n",
        "else:\n",
        "    print(\"Fail to reject the null hypothesis. The distribution of grades is uniform.\")\n"
      ],
      "metadata": {
        "colab": {
          "base_uri": "https://localhost:8080/"
        },
        "id": "MtMA1mfvesOn",
        "outputId": "411c6511-af59-49a2-c95c-d880f3d52d54"
      },
      "execution_count": null,
      "outputs": [
        {
          "output_type": "stream",
          "name": "stdout",
          "text": [
            "Fail to reject the null hypothesis. The distribution of grades is uniform.\n"
          ]
        }
      ]
    },
    {
      "cell_type": "code",
      "source": [],
      "metadata": {
        "id": "29QuuqBDgLS5"
      },
      "execution_count": null,
      "outputs": []
    }
  ]
}